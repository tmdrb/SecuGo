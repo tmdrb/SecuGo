{
  "nbformat": 4,
  "nbformat_minor": 0,
  "metadata": {
    "colab": {
      "name": "LENET-5.ipynb",
      "provenance": [],
      "authorship_tag": "ABX9TyMa8V1yRRnkTUlC8KTPkguf",
      "include_colab_link": true
    },
    "kernelspec": {
      "name": "python3",
      "display_name": "Python 3"
    },
    "language_info": {
      "name": "python"
    }
  },
  "cells": [
    {
      "cell_type": "markdown",
      "metadata": {
        "id": "view-in-github",
        "colab_type": "text"
      },
      "source": [
        "<a href=\"https://colab.research.google.com/github/tmdrb/SecuGo/blob/master/LENET_5.ipynb\" target=\"_parent\"><img src=\"https://colab.research.google.com/assets/colab-badge.svg\" alt=\"Open In Colab\"/></a>"
      ]
    },
    {
      "cell_type": "markdown",
      "metadata": {
        "id": "GNmd3AF0nKnI"
      },
      "source": [
        "#LENET-5"
      ]
    },
    {
      "cell_type": "code",
      "metadata": {
        "id": "vu6w0ce9nCNZ"
      },
      "source": [
        "import tensorflow as tf\n",
        "from tensorflow import keras\n",
        "import matplotlib.pyplot as plt\n",
        "import numpy as np\n",
        "import tensorflow_datasets as tfdf"
      ],
      "execution_count": 4,
      "outputs": []
    },
    {
      "cell_type": "code",
      "metadata": {
        "id": "YbcmBUHdnW3f"
      },
      "source": [
        "train_data, test_data = keras.datasets.mnist.load_data()"
      ],
      "execution_count": 84,
      "outputs": []
    },
    {
      "cell_type": "code",
      "metadata": {
        "colab": {
          "base_uri": "https://localhost:8080/"
        },
        "id": "5oBOHppeoXFa",
        "outputId": "1bcbc51b-990b-463d-8908-81b8043e8590"
      },
      "source": [
        "train_x = train_data[0]\n",
        "train_y = train_data[1]\n",
        "test_x = test_data[0]\n",
        "test_y = test_data[1]\n",
        "train_x.astype(np.float32)\n",
        "test_x.astype(np.float32)"
      ],
      "execution_count": 85,
      "outputs": [
        {
          "output_type": "execute_result",
          "data": {
            "text/plain": [
              "array([[[0., 0., 0., ..., 0., 0., 0.],\n",
              "        [0., 0., 0., ..., 0., 0., 0.],\n",
              "        [0., 0., 0., ..., 0., 0., 0.],\n",
              "        ...,\n",
              "        [0., 0., 0., ..., 0., 0., 0.],\n",
              "        [0., 0., 0., ..., 0., 0., 0.],\n",
              "        [0., 0., 0., ..., 0., 0., 0.]],\n",
              "\n",
              "       [[0., 0., 0., ..., 0., 0., 0.],\n",
              "        [0., 0., 0., ..., 0., 0., 0.],\n",
              "        [0., 0., 0., ..., 0., 0., 0.],\n",
              "        ...,\n",
              "        [0., 0., 0., ..., 0., 0., 0.],\n",
              "        [0., 0., 0., ..., 0., 0., 0.],\n",
              "        [0., 0., 0., ..., 0., 0., 0.]],\n",
              "\n",
              "       [[0., 0., 0., ..., 0., 0., 0.],\n",
              "        [0., 0., 0., ..., 0., 0., 0.],\n",
              "        [0., 0., 0., ..., 0., 0., 0.],\n",
              "        ...,\n",
              "        [0., 0., 0., ..., 0., 0., 0.],\n",
              "        [0., 0., 0., ..., 0., 0., 0.],\n",
              "        [0., 0., 0., ..., 0., 0., 0.]],\n",
              "\n",
              "       ...,\n",
              "\n",
              "       [[0., 0., 0., ..., 0., 0., 0.],\n",
              "        [0., 0., 0., ..., 0., 0., 0.],\n",
              "        [0., 0., 0., ..., 0., 0., 0.],\n",
              "        ...,\n",
              "        [0., 0., 0., ..., 0., 0., 0.],\n",
              "        [0., 0., 0., ..., 0., 0., 0.],\n",
              "        [0., 0., 0., ..., 0., 0., 0.]],\n",
              "\n",
              "       [[0., 0., 0., ..., 0., 0., 0.],\n",
              "        [0., 0., 0., ..., 0., 0., 0.],\n",
              "        [0., 0., 0., ..., 0., 0., 0.],\n",
              "        ...,\n",
              "        [0., 0., 0., ..., 0., 0., 0.],\n",
              "        [0., 0., 0., ..., 0., 0., 0.],\n",
              "        [0., 0., 0., ..., 0., 0., 0.]],\n",
              "\n",
              "       [[0., 0., 0., ..., 0., 0., 0.],\n",
              "        [0., 0., 0., ..., 0., 0., 0.],\n",
              "        [0., 0., 0., ..., 0., 0., 0.],\n",
              "        ...,\n",
              "        [0., 0., 0., ..., 0., 0., 0.],\n",
              "        [0., 0., 0., ..., 0., 0., 0.],\n",
              "        [0., 0., 0., ..., 0., 0., 0.]]], dtype=float32)"
            ]
          },
          "metadata": {
            "tags": []
          },
          "execution_count": 85
        }
      ]
    },
    {
      "cell_type": "code",
      "metadata": {
        "id": "bo5wvKF_9oyb"
      },
      "source": [
        "test_y = keras.utils.to_categorical(test_y)\n",
        "train_y = keras.utils.to_categorical(train_y)\n",
        "val_y =keras.utils.to_categorical(val_y)"
      ],
      "execution_count": 87,
      "outputs": []
    },
    {
      "cell_type": "code",
      "metadata": {
        "id": "-iBvmlWxB3Hx"
      },
      "source": [
        "train_x = tf.image.resize(train_x,[32,32])\n",
        "test_x = tf.image.resize(test_x,[32,32])\n",
        "val_x = tf.image.resize(val_x,[32,32])"
      ],
      "execution_count": 88,
      "outputs": []
    },
    {
      "cell_type": "code",
      "metadata": {
        "id": "dNPMFACjob7n"
      },
      "source": [
        "from sklearn.model_selection import train_test_split\n",
        "\n",
        "train_x = train_x.reshape(train_x.shape[0],train_x.shape[1],train_x.shape[2],-1)\n",
        "test_x = test_x.reshape(test_x.shape[0],test_x.shape[1],test_x.shape[2],-1)\n",
        "\n",
        "train_x, val_x, train_y, val_y = train_test_split(train_x,train_y,test_size=0.2,random_state=42)\n"
      ],
      "execution_count": 86,
      "outputs": []
    },
    {
      "cell_type": "code",
      "metadata": {
        "id": "VjR1Tz7xovgf"
      },
      "source": [
        "model = keras.Sequential()\n",
        "#c1\n",
        "model.add(keras.layers.Conv2D(6,(5,5),strides=1,activation='tanh',input_shape=(32,32,1)))\n",
        "#s2\n",
        "model.add(keras.layers.AveragePooling2D(2))\n",
        "#c3\n",
        "model.add(keras.layers.Conv2D(16,(5,5),strides=1,activation='tanh'))\n",
        "#s4\n",
        "model.add(keras.layers.AveragePooling2D(2))\n",
        "#c5\n",
        "model.add(keras.layers.Conv2D(120,(5,5),activation='tanh'))\n",
        "#f6\n",
        "model.add(keras.layers.Flatten())\n",
        "#f7\n",
        "model.add(keras.layers.Dense(84,activation='tanh'))\n",
        "#output\n",
        "model.add(keras.layers.Dense(10,activation='softmax'))\n"
      ],
      "execution_count": 94,
      "outputs": []
    },
    {
      "cell_type": "code",
      "metadata": {
        "id": "R0VvLj-mzGqy"
      },
      "source": [
        "model.compile(optimizer='adam',loss='categorical_crossentropy',metrics=['accuracy'])"
      ],
      "execution_count": 95,
      "outputs": []
    },
    {
      "cell_type": "code",
      "metadata": {
        "colab": {
          "base_uri": "https://localhost:8080/"
        },
        "id": "teiu583Cza_J",
        "outputId": "da0dce4b-9fe7-4396-bef7-8666feb04cf9"
      },
      "source": [
        "history = model.fit(train_x,train_y,batch_size=30,epochs=20,validation_data=(val_x,val_y))"
      ],
      "execution_count": 96,
      "outputs": [
        {
          "output_type": "stream",
          "text": [
            "Epoch 1/20\n",
            "1600/1600 [==============================] - 31s 19ms/step - loss: 0.1613 - accuracy: 0.9528 - val_loss: 0.0773 - val_accuracy: 0.9766\n",
            "Epoch 2/20\n",
            "1600/1600 [==============================] - 31s 19ms/step - loss: 0.0639 - accuracy: 0.9801 - val_loss: 0.0650 - val_accuracy: 0.9806\n",
            "Epoch 3/20\n",
            "1600/1600 [==============================] - 31s 19ms/step - loss: 0.0483 - accuracy: 0.9855 - val_loss: 0.0598 - val_accuracy: 0.9817\n",
            "Epoch 4/20\n",
            "1600/1600 [==============================] - 31s 19ms/step - loss: 0.0378 - accuracy: 0.9877 - val_loss: 0.0486 - val_accuracy: 0.9859\n",
            "Epoch 5/20\n",
            "1600/1600 [==============================] - 31s 19ms/step - loss: 0.0321 - accuracy: 0.9898 - val_loss: 0.0513 - val_accuracy: 0.9846\n",
            "Epoch 6/20\n",
            "1600/1600 [==============================] - 31s 19ms/step - loss: 0.0273 - accuracy: 0.9912 - val_loss: 0.0529 - val_accuracy: 0.9839\n",
            "Epoch 7/20\n",
            "1600/1600 [==============================] - 30s 19ms/step - loss: 0.0228 - accuracy: 0.9929 - val_loss: 0.0522 - val_accuracy: 0.9839\n",
            "Epoch 8/20\n",
            "1600/1600 [==============================] - 31s 19ms/step - loss: 0.0214 - accuracy: 0.9935 - val_loss: 0.0510 - val_accuracy: 0.9859\n",
            "Epoch 9/20\n",
            "1600/1600 [==============================] - 31s 19ms/step - loss: 0.0174 - accuracy: 0.9945 - val_loss: 0.0495 - val_accuracy: 0.9864\n",
            "Epoch 10/20\n",
            "1600/1600 [==============================] - 31s 19ms/step - loss: 0.0174 - accuracy: 0.9945 - val_loss: 0.0475 - val_accuracy: 0.9870\n",
            "Epoch 11/20\n",
            "1600/1600 [==============================] - 31s 19ms/step - loss: 0.0146 - accuracy: 0.9954 - val_loss: 0.0459 - val_accuracy: 0.9882\n",
            "Epoch 12/20\n",
            "1600/1600 [==============================] - 30s 19ms/step - loss: 0.0139 - accuracy: 0.9956 - val_loss: 0.0492 - val_accuracy: 0.9869\n",
            "Epoch 13/20\n",
            "1600/1600 [==============================] - 31s 19ms/step - loss: 0.0122 - accuracy: 0.9961 - val_loss: 0.0539 - val_accuracy: 0.9852\n",
            "Epoch 14/20\n",
            "1600/1600 [==============================] - 30s 19ms/step - loss: 0.0136 - accuracy: 0.9955 - val_loss: 0.0589 - val_accuracy: 0.9859\n",
            "Epoch 15/20\n",
            "1600/1600 [==============================] - 31s 20ms/step - loss: 0.0112 - accuracy: 0.9962 - val_loss: 0.0477 - val_accuracy: 0.9865\n",
            "Epoch 16/20\n",
            "1600/1600 [==============================] - 31s 20ms/step - loss: 0.0101 - accuracy: 0.9965 - val_loss: 0.0511 - val_accuracy: 0.9879\n",
            "Epoch 17/20\n",
            "1600/1600 [==============================] - 31s 20ms/step - loss: 0.0128 - accuracy: 0.9956 - val_loss: 0.0457 - val_accuracy: 0.9881\n",
            "Epoch 18/20\n",
            "1600/1600 [==============================] - 31s 20ms/step - loss: 0.0099 - accuracy: 0.9968 - val_loss: 0.0601 - val_accuracy: 0.9858\n",
            "Epoch 19/20\n",
            "1600/1600 [==============================] - 31s 19ms/step - loss: 0.0083 - accuracy: 0.9970 - val_loss: 0.0499 - val_accuracy: 0.9882\n",
            "Epoch 20/20\n",
            "1600/1600 [==============================] - 30s 19ms/step - loss: 0.0094 - accuracy: 0.9969 - val_loss: 0.0511 - val_accuracy: 0.9869\n"
          ],
          "name": "stdout"
        }
      ]
    },
    {
      "cell_type": "code",
      "metadata": {
        "id": "Y8mWRqAFBact"
      },
      "source": [
        "pre_y = model.predict(test_x)"
      ],
      "execution_count": 99,
      "outputs": []
    },
    {
      "cell_type": "code",
      "metadata": {
        "colab": {
          "base_uri": "https://localhost:8080/"
        },
        "id": "pr1q5ouaBj9b",
        "outputId": "f9a14c28-e5c0-47d2-c54e-95a59e254f1a"
      },
      "source": [
        "model.evaluate(test_x,test_y,batch_size=30)"
      ],
      "execution_count": 102,
      "outputs": [
        {
          "output_type": "stream",
          "text": [
            "334/334 [==============================] - 3s 9ms/step - loss: 0.0477 - accuracy: 0.9884\n"
          ],
          "name": "stdout"
        },
        {
          "output_type": "execute_result",
          "data": {
            "text/plain": [
              "[0.04767409712076187, 0.9883999824523926]"
            ]
          },
          "metadata": {
            "tags": []
          },
          "execution_count": 102
        }
      ]
    },
    {
      "cell_type": "markdown",
      "metadata": {
        "id": "1lVAfHPjYyDB"
      },
      "source": [
        "#DNN 과 LENET-5 비교\n"
      ]
    },
    {
      "cell_type": "code",
      "metadata": {
        "id": "T4WrYFm6Y3g_"
      },
      "source": [
        "(dnn_train_x,dnn_train_y),(dnn_test_x,dnn_test_y) = keras.datasets.mnist.load_data()"
      ],
      "execution_count": 104,
      "outputs": []
    },
    {
      "cell_type": "code",
      "metadata": {
        "id": "L3IhWUlQZUvO"
      },
      "source": [
        "dnn_train_x = dnn_train_x.reshape(-1,28*28)\n",
        "dnn_test_x = dnn_test_x.reshape(-1,28*28)\n",
        "\n",
        "dnn_train_y = keras.utils.to_categorical(dnn_train_y)\n",
        "dnn_test_y = keras.utils.to_categorical(dnn_test_y)\n",
        "\n",
        "dnn_train_x, dnn_val_x, dnn_train_y, dnn_val_y = train_test_split(dnn_train_x,dnn_train_y,test_size=0.2,random_state=42)"
      ],
      "execution_count": 105,
      "outputs": []
    },
    {
      "cell_type": "code",
      "metadata": {
        "id": "880zrmfSZH3X"
      },
      "source": [
        "dnn_model = keras.Sequential()\n",
        "\n",
        "dnn_model.add(keras.layers.Dense(400,activation='relu',input_shape=(28*28,)))\n",
        "dnn_model.add(keras.layers.Dense(120,activation='relu'))\n",
        "dnn_model.add(keras.layers.Dense(84,activation='relu'))\n",
        "dnn_model.add(keras.layers.Dense(10,activation='softmax'))\n",
        "\n",
        "dnn_model.compile(optimizer='adam',metrics=['accuracy'],loss='categorical_crossentropy')"
      ],
      "execution_count": 106,
      "outputs": []
    },
    {
      "cell_type": "code",
      "metadata": {
        "colab": {
          "base_uri": "https://localhost:8080/"
        },
        "id": "pGJrmiP9atLi",
        "outputId": "b719e603-f2df-4903-d902-453b75c4e49b"
      },
      "source": [
        "dnn_history = dnn_model.fit(dnn_train_x,dnn_train_y,epochs=20,batch_size=30,validation_data=(dnn_val_x,dnn_val_y))"
      ],
      "execution_count": 107,
      "outputs": [
        {
          "output_type": "stream",
          "text": [
            "Epoch 1/20\n",
            "1600/1600 [==============================] - 8s 5ms/step - loss: 1.1670 - accuracy: 0.8778 - val_loss: 0.2928 - val_accuracy: 0.9283\n",
            "Epoch 2/20\n",
            "1600/1600 [==============================] - 8s 5ms/step - loss: 0.2550 - accuracy: 0.9355 - val_loss: 0.2047 - val_accuracy: 0.9459\n",
            "Epoch 3/20\n",
            "1600/1600 [==============================] - 7s 4ms/step - loss: 0.1934 - accuracy: 0.9480 - val_loss: 0.1898 - val_accuracy: 0.9468\n",
            "Epoch 4/20\n",
            "1600/1600 [==============================] - 7s 4ms/step - loss: 0.1670 - accuracy: 0.9547 - val_loss: 0.1692 - val_accuracy: 0.9583\n",
            "Epoch 5/20\n",
            "1600/1600 [==============================] - 7s 4ms/step - loss: 0.1411 - accuracy: 0.9628 - val_loss: 0.1576 - val_accuracy: 0.9589\n",
            "Epoch 6/20\n",
            "1600/1600 [==============================] - 7s 4ms/step - loss: 0.1185 - accuracy: 0.9670 - val_loss: 0.1479 - val_accuracy: 0.9615\n",
            "Epoch 7/20\n",
            "1600/1600 [==============================] - 7s 4ms/step - loss: 0.0967 - accuracy: 0.9725 - val_loss: 0.1950 - val_accuracy: 0.9596\n",
            "Epoch 8/20\n",
            "1600/1600 [==============================] - 7s 4ms/step - loss: 0.0817 - accuracy: 0.9766 - val_loss: 0.1446 - val_accuracy: 0.9653\n",
            "Epoch 9/20\n",
            "1600/1600 [==============================] - 7s 4ms/step - loss: 0.0764 - accuracy: 0.9788 - val_loss: 0.1280 - val_accuracy: 0.9692\n",
            "Epoch 10/20\n",
            "1600/1600 [==============================] - 7s 4ms/step - loss: 0.0693 - accuracy: 0.9811 - val_loss: 0.1611 - val_accuracy: 0.9613\n",
            "Epoch 11/20\n",
            "1600/1600 [==============================] - 7s 4ms/step - loss: 0.0601 - accuracy: 0.9832 - val_loss: 0.1391 - val_accuracy: 0.9690\n",
            "Epoch 12/20\n",
            "1600/1600 [==============================] - 8s 5ms/step - loss: 0.0566 - accuracy: 0.9845 - val_loss: 0.1497 - val_accuracy: 0.9678\n",
            "Epoch 13/20\n",
            "1600/1600 [==============================] - 7s 4ms/step - loss: 0.0546 - accuracy: 0.9847 - val_loss: 0.1570 - val_accuracy: 0.9709\n",
            "Epoch 14/20\n",
            "1600/1600 [==============================] - 7s 4ms/step - loss: 0.0493 - accuracy: 0.9873 - val_loss: 0.1498 - val_accuracy: 0.9693\n",
            "Epoch 15/20\n",
            "1600/1600 [==============================] - 7s 4ms/step - loss: 0.0491 - accuracy: 0.9871 - val_loss: 0.1368 - val_accuracy: 0.9714\n",
            "Epoch 16/20\n",
            "1600/1600 [==============================] - 7s 4ms/step - loss: 0.0476 - accuracy: 0.9881 - val_loss: 0.1225 - val_accuracy: 0.9751\n",
            "Epoch 17/20\n",
            "1600/1600 [==============================] - 7s 4ms/step - loss: 0.0413 - accuracy: 0.9891 - val_loss: 0.1767 - val_accuracy: 0.9689\n",
            "Epoch 18/20\n",
            "1600/1600 [==============================] - 7s 4ms/step - loss: 0.0407 - accuracy: 0.9897 - val_loss: 0.1601 - val_accuracy: 0.9750\n",
            "Epoch 19/20\n",
            "1600/1600 [==============================] - 7s 4ms/step - loss: 0.0365 - accuracy: 0.9915 - val_loss: 0.2260 - val_accuracy: 0.9688\n",
            "Epoch 20/20\n",
            "1600/1600 [==============================] - 7s 4ms/step - loss: 0.0479 - accuracy: 0.9901 - val_loss: 0.1689 - val_accuracy: 0.9749\n"
          ],
          "name": "stdout"
        }
      ]
    },
    {
      "cell_type": "code",
      "metadata": {
        "colab": {
          "base_uri": "https://localhost:8080/"
        },
        "id": "Rl2NqFOfa7c_",
        "outputId": "4a1fe3b9-56f5-4337-e71a-24e94c84a2ee"
      },
      "source": [
        "dnn_model.evaluate(dnn_test_x,dnn_test_y)"
      ],
      "execution_count": 108,
      "outputs": [
        {
          "output_type": "stream",
          "text": [
            "313/313 [==============================] - 1s 2ms/step - loss: 0.1783 - accuracy: 0.9748\n"
          ],
          "name": "stdout"
        },
        {
          "output_type": "execute_result",
          "data": {
            "text/plain": [
              "[0.17834140360355377, 0.9747999906539917]"
            ]
          },
          "metadata": {
            "tags": []
          },
          "execution_count": 108
        }
      ]
    },
    {
      "cell_type": "code",
      "metadata": {
        "id": "3tQYc1cucOyH"
      },
      "source": [
        ""
      ],
      "execution_count": null,
      "outputs": []
    }
  ]
}